{
 "cells": [
  {
   "cell_type": "code",
   "execution_count": 1,
   "metadata": {},
   "outputs": [],
   "source": [
    "import numpy as np\n",
    "import skfuzzy as fuzz\n",
    "from skfuzzy import control as ctrl\n",
    "import matplotlib.pyplot as plt"
   ]
  },
  {
   "cell_type": "markdown",
   "metadata": {},
   "source": [
    "# Objectives of this Notebook\n",
    "\n",
    "1. Visualize `Rule patches' as mentioned in Kosko's papers\n",
    "2. Create an FIS object that carries out Fuzzy inference making"
   ]
  },
  {
   "cell_type": "code",
   "execution_count": 2,
   "metadata": {},
   "outputs": [],
   "source": [
    "class FIS:\n",
    "    def __init__(self, antecedent_domain_names: list, consequent_domain_names: list, implication_op_choice: int) -> None:\n",
    "        self.antecedent_domain_names = antecedent_domain_names\n",
    "        self.consequent_domain_names = consequent_domain_names\n",
    "\n",
    "        self.antecedent_membership_functions = {name:[] for name in self.antecedent_domain_names}\n",
    "        self.consequent_membership_functions = {name:[] for name in self.consequent_domain_names}\n",
    "\n",
    "    def create_domain(self, xlims: tuple, number_of_points: int):\n",
    "        x_values = np.linspace(xlims[0], xlims[1], number_of_points)\n",
    "        return x_values\n",
    "\n",
    "    def add_mf(self, domain_name, *kwargs):\n",
    "        \"\"\"\n",
    "        Create a membership function\n",
    "\n",
    "        Call signature::\n",
    "\n",
    "            FIS.create_mf({'low': list of values, 'medium': list of values, ...})\n",
    "        \n",
    "        Parameters\n",
    "        __________\n",
    "        *kwargs: A dictionary of name-values pairs for each membership function\n",
    "\n",
    "        \"\"\"\n",
    "        # search in antecedents\n",
    "        for name in self.antecedent_membership_functions.keys():\n",
    "            if name == domain_name\n",
    "\n",
    "    def cylindrical_closure(self):\n",
    "        pass\n",
    "\n",
    "    def impliciation(self, choice):\n",
    "        pass\n",
    "\n",
    "    def relation(self):\n",
    "        pass\n",
    "\n",
    "    def project_antecedents_to_3d(self):\n",
    "        pass\n",
    "\n",
    "    def plot_cylindrical_closure(self):\n",
    "        pass\n"
   ]
  },
  {
   "cell_type": "code",
   "execution_count": null,
   "metadata": {},
   "outputs": [],
   "source": []
  }
 ],
 "metadata": {
  "kernelspec": {
   "display_name": "nn",
   "language": "python",
   "name": "python3"
  },
  "language_info": {
   "codemirror_mode": {
    "name": "ipython",
    "version": 3
   },
   "file_extension": ".py",
   "mimetype": "text/x-python",
   "name": "python",
   "nbconvert_exporter": "python",
   "pygments_lexer": "ipython3",
   "version": "3.11.5"
  }
 },
 "nbformat": 4,
 "nbformat_minor": 2
}
