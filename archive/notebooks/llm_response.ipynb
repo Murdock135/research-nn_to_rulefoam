{
 "cells": [
  {
   "cell_type": "code",
   "execution_count": 4,
   "metadata": {},
   "outputs": [],
   "source": [
    "import numpy as np\n",
    "\n",
    "def neural_gas(input_data, n_neurons, max_iterations=100, epsilon_start=0.5, epsilon_end=0.01):\n",
    "    n_samples, n_features = input_data.shape\n",
    "\n",
    "    # Initialize code vectors randomly from the input data\n",
    "    code_vectors = input_data[np.random.choice(n_samples, n_neurons, replace=False)]\n",
    "\n",
    "    # Initialize connections and lifetimes\n",
    "    connections = np.zeros((n_neurons, n_neurons))\n",
    "    lifetimes = np.zeros((n_neurons, n_neurons))\n",
    "    for i in range(n_neurons):\n",
    "        for j in range(i + 1, n_neurons):\n",
    "            connections[i, j] = connections[j, i] = 1\n",
    "            lifetimes[i, j] = lifetimes[j, i] = 10\n",
    "\n",
    "    for iteration in range(max_iterations):\n",
    "        epsilon = epsilon_start * (epsilon_end / epsilon_start) ** (iteration / (max_iterations - 1)) # epsilon scheduling using formula at the end of paper\n",
    "\n",
    "        # Compute distances between each data point and all code vectors\n",
    "        distances = np.array([np.linalg.norm(code_vectors - data, axis=1) for data in input_data])\n",
    "\n",
    "        # Sort distances to find neighborhood ranks\n",
    "        sorted_indices = np.argsort(distances, axis=1)\n",
    "        neighborhood_ranks = np.argsort(sorted_indices, axis=1)\n",
    "\n",
    "        # Update code vectors\n",
    "        for i in range(n_neurons):\n",
    "            neighbors = np.where(neighborhood_ranks == i)[0]\n",
    "            if len(neighbors) > 0:\n",
    "                for j, neighbor in enumerate(neighbors):\n",
    "                    code_vectors[i] += epsilon * (input_data[neighbor] - code_vectors[i]) * np.exp(-j / len(neighbors))\n",
    "\n",
    "        # Update connections and lifetimes\n",
    "        for i in range(n_neurons):\n",
    "            for j in range(n_neurons):\n",
    "                if i != j:\n",
    "                    age_factor = np.sum(np.exp(-np.abs(neighborhood_ranks[:, i] - neighborhood_ranks[:, j])))\n",
    "                    connections[i, j] += age_factor\n",
    "                    lifetimes[i, j] += age_factor\n",
    "\n",
    "        # Decay lifetimes\n",
    "        lifetimes *= 0.5\n",
    "\n",
    "    return code_vectors, connections"
   ]
  },
  {
   "cell_type": "code",
   "execution_count": 7,
   "metadata": {},
   "outputs": [
    {
     "name": "stdout",
     "output_type": "stream",
     "text": [
      "Original Matrix:\n",
      "[[ 0  1  2  3  4]\n",
      " [ 5  6  7  8  9]\n",
      " [10 11 12 13 14]\n",
      " [15 16 17 18 19]\n",
      " [20 21 22 23 24]]\n",
      "\n",
      "Modified Matrix:\n",
      "[[ 1  1  2  3  4]\n",
      " [ 5  1  7  8  9]\n",
      " [10 11 12 13  1]\n",
      " [15 16  1 18 19]\n",
      " [20 21 22  1 24]]\n"
     ]
    }
   ],
   "source": [
    "import numpy as np\n",
    "\n",
    "# 5x5 square matrix\n",
    "matrix = np.arange(25).reshape(5, 5)\n",
    "print(\"Original Matrix:\")\n",
    "print(matrix)\n",
    "\n",
    "# 2D array with row and column indices\n",
    "indices = np.array([[2, 4, 1, 3, 0], [4, 3, 1, 2, 0]])\n",
    "\n",
    "# Change elements using advanced indexing\n",
    "matrix[indices[0], indices[1]] = 1\n",
    "\n",
    "print(\"\\nModified Matrix:\")\n",
    "print(matrix)"
   ]
  }
 ],
 "metadata": {
  "kernelspec": {
   "display_name": "nn",
   "language": "python",
   "name": "python3"
  },
  "language_info": {
   "codemirror_mode": {
    "name": "ipython",
    "version": 3
   },
   "file_extension": ".py",
   "mimetype": "text/x-python",
   "name": "python",
   "nbconvert_exporter": "python",
   "pygments_lexer": "ipython3",
   "version": "3.11.5"
  }
 },
 "nbformat": 4,
 "nbformat_minor": 2
}
